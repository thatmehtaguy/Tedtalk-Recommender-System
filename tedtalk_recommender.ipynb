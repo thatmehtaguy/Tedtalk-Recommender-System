{
  "nbformat": 4,
  "nbformat_minor": 0,
  "metadata": {
    "colab": {
      "name": "tedtalk_recommender.ipynb",
      "provenance": []
    },
    "kernelspec": {
      "name": "python3",
      "display_name": "Python 3"
    },
    "language_info": {
      "name": "python"
    }
  },
  "cells": [
    {
      "cell_type": "code",
      "execution_count": 25,
      "metadata": {
        "colab": {
          "base_uri": "https://localhost:8080/",
          "height": 206
        },
        "id": "aZmQxompPKYR",
        "outputId": "751cee2b-5cc6-484f-a5a7-a6b1718529c3"
      },
      "outputs": [
        {
          "output_type": "execute_result",
          "data": {
            "text/plain": [
              "                                          transcript  \\\n",
              "0  Good morning. How are you?(Laughter)It's been ...   \n",
              "1  Thank you so much, Chris. And it's truly a gre...   \n",
              "2  (Music: \"The Sound of Silence,\" Simon & Garfun...   \n",
              "3  If you're here today — and I'm very happy that...   \n",
              "4  About 10 years ago, I took on the task to teac...   \n",
              "\n",
              "                                                 url  \n",
              "0  https://www.ted.com/talks/ken_robinson_says_sc...  \n",
              "1  https://www.ted.com/talks/al_gore_on_averting_...  \n",
              "2  https://www.ted.com/talks/david_pogue_says_sim...  \n",
              "3  https://www.ted.com/talks/majora_carter_s_tale...  \n",
              "4  https://www.ted.com/talks/hans_rosling_shows_t...  "
            ],
            "text/html": [
              "\n",
              "  <div id=\"df-13ad9909-170e-4590-9101-9970c04b0a9f\">\n",
              "    <div class=\"colab-df-container\">\n",
              "      <div>\n",
              "<style scoped>\n",
              "    .dataframe tbody tr th:only-of-type {\n",
              "        vertical-align: middle;\n",
              "    }\n",
              "\n",
              "    .dataframe tbody tr th {\n",
              "        vertical-align: top;\n",
              "    }\n",
              "\n",
              "    .dataframe thead th {\n",
              "        text-align: right;\n",
              "    }\n",
              "</style>\n",
              "<table border=\"1\" class=\"dataframe\">\n",
              "  <thead>\n",
              "    <tr style=\"text-align: right;\">\n",
              "      <th></th>\n",
              "      <th>transcript</th>\n",
              "      <th>url</th>\n",
              "    </tr>\n",
              "  </thead>\n",
              "  <tbody>\n",
              "    <tr>\n",
              "      <th>0</th>\n",
              "      <td>Good morning. How are you?(Laughter)It's been ...</td>\n",
              "      <td>https://www.ted.com/talks/ken_robinson_says_sc...</td>\n",
              "    </tr>\n",
              "    <tr>\n",
              "      <th>1</th>\n",
              "      <td>Thank you so much, Chris. And it's truly a gre...</td>\n",
              "      <td>https://www.ted.com/talks/al_gore_on_averting_...</td>\n",
              "    </tr>\n",
              "    <tr>\n",
              "      <th>2</th>\n",
              "      <td>(Music: \"The Sound of Silence,\" Simon &amp; Garfun...</td>\n",
              "      <td>https://www.ted.com/talks/david_pogue_says_sim...</td>\n",
              "    </tr>\n",
              "    <tr>\n",
              "      <th>3</th>\n",
              "      <td>If you're here today — and I'm very happy that...</td>\n",
              "      <td>https://www.ted.com/talks/majora_carter_s_tale...</td>\n",
              "    </tr>\n",
              "    <tr>\n",
              "      <th>4</th>\n",
              "      <td>About 10 years ago, I took on the task to teac...</td>\n",
              "      <td>https://www.ted.com/talks/hans_rosling_shows_t...</td>\n",
              "    </tr>\n",
              "  </tbody>\n",
              "</table>\n",
              "</div>\n",
              "      <button class=\"colab-df-convert\" onclick=\"convertToInteractive('df-13ad9909-170e-4590-9101-9970c04b0a9f')\"\n",
              "              title=\"Convert this dataframe to an interactive table.\"\n",
              "              style=\"display:none;\">\n",
              "        \n",
              "  <svg xmlns=\"http://www.w3.org/2000/svg\" height=\"24px\"viewBox=\"0 0 24 24\"\n",
              "       width=\"24px\">\n",
              "    <path d=\"M0 0h24v24H0V0z\" fill=\"none\"/>\n",
              "    <path d=\"M18.56 5.44l.94 2.06.94-2.06 2.06-.94-2.06-.94-.94-2.06-.94 2.06-2.06.94zm-11 1L8.5 8.5l.94-2.06 2.06-.94-2.06-.94L8.5 2.5l-.94 2.06-2.06.94zm10 10l.94 2.06.94-2.06 2.06-.94-2.06-.94-.94-2.06-.94 2.06-2.06.94z\"/><path d=\"M17.41 7.96l-1.37-1.37c-.4-.4-.92-.59-1.43-.59-.52 0-1.04.2-1.43.59L10.3 9.45l-7.72 7.72c-.78.78-.78 2.05 0 2.83L4 21.41c.39.39.9.59 1.41.59.51 0 1.02-.2 1.41-.59l7.78-7.78 2.81-2.81c.8-.78.8-2.07 0-2.86zM5.41 20L4 18.59l7.72-7.72 1.47 1.35L5.41 20z\"/>\n",
              "  </svg>\n",
              "      </button>\n",
              "      \n",
              "  <style>\n",
              "    .colab-df-container {\n",
              "      display:flex;\n",
              "      flex-wrap:wrap;\n",
              "      gap: 12px;\n",
              "    }\n",
              "\n",
              "    .colab-df-convert {\n",
              "      background-color: #E8F0FE;\n",
              "      border: none;\n",
              "      border-radius: 50%;\n",
              "      cursor: pointer;\n",
              "      display: none;\n",
              "      fill: #1967D2;\n",
              "      height: 32px;\n",
              "      padding: 0 0 0 0;\n",
              "      width: 32px;\n",
              "    }\n",
              "\n",
              "    .colab-df-convert:hover {\n",
              "      background-color: #E2EBFA;\n",
              "      box-shadow: 0px 1px 2px rgba(60, 64, 67, 0.3), 0px 1px 3px 1px rgba(60, 64, 67, 0.15);\n",
              "      fill: #174EA6;\n",
              "    }\n",
              "\n",
              "    [theme=dark] .colab-df-convert {\n",
              "      background-color: #3B4455;\n",
              "      fill: #D2E3FC;\n",
              "    }\n",
              "\n",
              "    [theme=dark] .colab-df-convert:hover {\n",
              "      background-color: #434B5C;\n",
              "      box-shadow: 0px 1px 3px 1px rgba(0, 0, 0, 0.15);\n",
              "      filter: drop-shadow(0px 1px 2px rgba(0, 0, 0, 0.3));\n",
              "      fill: #FFFFFF;\n",
              "    }\n",
              "  </style>\n",
              "\n",
              "      <script>\n",
              "        const buttonEl =\n",
              "          document.querySelector('#df-13ad9909-170e-4590-9101-9970c04b0a9f button.colab-df-convert');\n",
              "        buttonEl.style.display =\n",
              "          google.colab.kernel.accessAllowed ? 'block' : 'none';\n",
              "\n",
              "        async function convertToInteractive(key) {\n",
              "          const element = document.querySelector('#df-13ad9909-170e-4590-9101-9970c04b0a9f');\n",
              "          const dataTable =\n",
              "            await google.colab.kernel.invokeFunction('convertToInteractive',\n",
              "                                                     [key], {});\n",
              "          if (!dataTable) return;\n",
              "\n",
              "          const docLinkHtml = 'Like what you see? Visit the ' +\n",
              "            '<a target=\"_blank\" href=https://colab.research.google.com/notebooks/data_table.ipynb>data table notebook</a>'\n",
              "            + ' to learn more about interactive tables.';\n",
              "          element.innerHTML = '';\n",
              "          dataTable['output_type'] = 'display_data';\n",
              "          await google.colab.output.renderOutput(dataTable, element);\n",
              "          const docLink = document.createElement('div');\n",
              "          docLink.innerHTML = docLinkHtml;\n",
              "          element.appendChild(docLink);\n",
              "        }\n",
              "      </script>\n",
              "    </div>\n",
              "  </div>\n",
              "  "
            ]
          },
          "metadata": {},
          "execution_count": 25
        }
      ],
      "source": [
        "import pandas as pd\n",
        "transcripts=pd.read_csv(\"/content/transcripts.csv\")\n",
        "transcripts.head()"
      ]
    },
    {
      "cell_type": "code",
      "source": [
        "transcripts['title']=transcripts['url'].map(lambda x:x.split(\"/\")[-1])\n",
        "transcripts.head()"
      ],
      "metadata": {
        "colab": {
          "base_uri": "https://localhost:8080/",
          "height": 206
        },
        "id": "uh1KRAatQ2MS",
        "outputId": "d17ca118-f85a-4b59-a2ab-b5604039bd97"
      },
      "execution_count": 26,
      "outputs": [
        {
          "output_type": "execute_result",
          "data": {
            "text/plain": [
              "                                          transcript  \\\n",
              "0  Good morning. How are you?(Laughter)It's been ...   \n",
              "1  Thank you so much, Chris. And it's truly a gre...   \n",
              "2  (Music: \"The Sound of Silence,\" Simon & Garfun...   \n",
              "3  If you're here today — and I'm very happy that...   \n",
              "4  About 10 years ago, I took on the task to teac...   \n",
              "\n",
              "                                                 url  \\\n",
              "0  https://www.ted.com/talks/ken_robinson_says_sc...   \n",
              "1  https://www.ted.com/talks/al_gore_on_averting_...   \n",
              "2  https://www.ted.com/talks/david_pogue_says_sim...   \n",
              "3  https://www.ted.com/talks/majora_carter_s_tale...   \n",
              "4  https://www.ted.com/talks/hans_rosling_shows_t...   \n",
              "\n",
              "                                               title  \n",
              "0        ken_robinson_says_schools_kill_creativity\\n  \n",
              "1               al_gore_on_averting_climate_crisis\\n  \n",
              "2                david_pogue_says_simplicity_sells\\n  \n",
              "3            majora_carter_s_tale_of_urban_renewal\\n  \n",
              "4  hans_rosling_shows_the_best_stats_you_ve_ever_...  "
            ],
            "text/html": [
              "\n",
              "  <div id=\"df-4688a95d-d773-4c17-884b-5c09680f1b5d\">\n",
              "    <div class=\"colab-df-container\">\n",
              "      <div>\n",
              "<style scoped>\n",
              "    .dataframe tbody tr th:only-of-type {\n",
              "        vertical-align: middle;\n",
              "    }\n",
              "\n",
              "    .dataframe tbody tr th {\n",
              "        vertical-align: top;\n",
              "    }\n",
              "\n",
              "    .dataframe thead th {\n",
              "        text-align: right;\n",
              "    }\n",
              "</style>\n",
              "<table border=\"1\" class=\"dataframe\">\n",
              "  <thead>\n",
              "    <tr style=\"text-align: right;\">\n",
              "      <th></th>\n",
              "      <th>transcript</th>\n",
              "      <th>url</th>\n",
              "      <th>title</th>\n",
              "    </tr>\n",
              "  </thead>\n",
              "  <tbody>\n",
              "    <tr>\n",
              "      <th>0</th>\n",
              "      <td>Good morning. How are you?(Laughter)It's been ...</td>\n",
              "      <td>https://www.ted.com/talks/ken_robinson_says_sc...</td>\n",
              "      <td>ken_robinson_says_schools_kill_creativity\\n</td>\n",
              "    </tr>\n",
              "    <tr>\n",
              "      <th>1</th>\n",
              "      <td>Thank you so much, Chris. And it's truly a gre...</td>\n",
              "      <td>https://www.ted.com/talks/al_gore_on_averting_...</td>\n",
              "      <td>al_gore_on_averting_climate_crisis\\n</td>\n",
              "    </tr>\n",
              "    <tr>\n",
              "      <th>2</th>\n",
              "      <td>(Music: \"The Sound of Silence,\" Simon &amp; Garfun...</td>\n",
              "      <td>https://www.ted.com/talks/david_pogue_says_sim...</td>\n",
              "      <td>david_pogue_says_simplicity_sells\\n</td>\n",
              "    </tr>\n",
              "    <tr>\n",
              "      <th>3</th>\n",
              "      <td>If you're here today — and I'm very happy that...</td>\n",
              "      <td>https://www.ted.com/talks/majora_carter_s_tale...</td>\n",
              "      <td>majora_carter_s_tale_of_urban_renewal\\n</td>\n",
              "    </tr>\n",
              "    <tr>\n",
              "      <th>4</th>\n",
              "      <td>About 10 years ago, I took on the task to teac...</td>\n",
              "      <td>https://www.ted.com/talks/hans_rosling_shows_t...</td>\n",
              "      <td>hans_rosling_shows_the_best_stats_you_ve_ever_...</td>\n",
              "    </tr>\n",
              "  </tbody>\n",
              "</table>\n",
              "</div>\n",
              "      <button class=\"colab-df-convert\" onclick=\"convertToInteractive('df-4688a95d-d773-4c17-884b-5c09680f1b5d')\"\n",
              "              title=\"Convert this dataframe to an interactive table.\"\n",
              "              style=\"display:none;\">\n",
              "        \n",
              "  <svg xmlns=\"http://www.w3.org/2000/svg\" height=\"24px\"viewBox=\"0 0 24 24\"\n",
              "       width=\"24px\">\n",
              "    <path d=\"M0 0h24v24H0V0z\" fill=\"none\"/>\n",
              "    <path d=\"M18.56 5.44l.94 2.06.94-2.06 2.06-.94-2.06-.94-.94-2.06-.94 2.06-2.06.94zm-11 1L8.5 8.5l.94-2.06 2.06-.94-2.06-.94L8.5 2.5l-.94 2.06-2.06.94zm10 10l.94 2.06.94-2.06 2.06-.94-2.06-.94-.94-2.06-.94 2.06-2.06.94z\"/><path d=\"M17.41 7.96l-1.37-1.37c-.4-.4-.92-.59-1.43-.59-.52 0-1.04.2-1.43.59L10.3 9.45l-7.72 7.72c-.78.78-.78 2.05 0 2.83L4 21.41c.39.39.9.59 1.41.59.51 0 1.02-.2 1.41-.59l7.78-7.78 2.81-2.81c.8-.78.8-2.07 0-2.86zM5.41 20L4 18.59l7.72-7.72 1.47 1.35L5.41 20z\"/>\n",
              "  </svg>\n",
              "      </button>\n",
              "      \n",
              "  <style>\n",
              "    .colab-df-container {\n",
              "      display:flex;\n",
              "      flex-wrap:wrap;\n",
              "      gap: 12px;\n",
              "    }\n",
              "\n",
              "    .colab-df-convert {\n",
              "      background-color: #E8F0FE;\n",
              "      border: none;\n",
              "      border-radius: 50%;\n",
              "      cursor: pointer;\n",
              "      display: none;\n",
              "      fill: #1967D2;\n",
              "      height: 32px;\n",
              "      padding: 0 0 0 0;\n",
              "      width: 32px;\n",
              "    }\n",
              "\n",
              "    .colab-df-convert:hover {\n",
              "      background-color: #E2EBFA;\n",
              "      box-shadow: 0px 1px 2px rgba(60, 64, 67, 0.3), 0px 1px 3px 1px rgba(60, 64, 67, 0.15);\n",
              "      fill: #174EA6;\n",
              "    }\n",
              "\n",
              "    [theme=dark] .colab-df-convert {\n",
              "      background-color: #3B4455;\n",
              "      fill: #D2E3FC;\n",
              "    }\n",
              "\n",
              "    [theme=dark] .colab-df-convert:hover {\n",
              "      background-color: #434B5C;\n",
              "      box-shadow: 0px 1px 3px 1px rgba(0, 0, 0, 0.15);\n",
              "      filter: drop-shadow(0px 1px 2px rgba(0, 0, 0, 0.3));\n",
              "      fill: #FFFFFF;\n",
              "    }\n",
              "  </style>\n",
              "\n",
              "      <script>\n",
              "        const buttonEl =\n",
              "          document.querySelector('#df-4688a95d-d773-4c17-884b-5c09680f1b5d button.colab-df-convert');\n",
              "        buttonEl.style.display =\n",
              "          google.colab.kernel.accessAllowed ? 'block' : 'none';\n",
              "\n",
              "        async function convertToInteractive(key) {\n",
              "          const element = document.querySelector('#df-4688a95d-d773-4c17-884b-5c09680f1b5d');\n",
              "          const dataTable =\n",
              "            await google.colab.kernel.invokeFunction('convertToInteractive',\n",
              "                                                     [key], {});\n",
              "          if (!dataTable) return;\n",
              "\n",
              "          const docLinkHtml = 'Like what you see? Visit the ' +\n",
              "            '<a target=\"_blank\" href=https://colab.research.google.com/notebooks/data_table.ipynb>data table notebook</a>'\n",
              "            + ' to learn more about interactive tables.';\n",
              "          element.innerHTML = '';\n",
              "          dataTable['output_type'] = 'display_data';\n",
              "          await google.colab.output.renderOutput(dataTable, element);\n",
              "          const docLink = document.createElement('div');\n",
              "          docLink.innerHTML = docLinkHtml;\n",
              "          element.appendChild(docLink);\n",
              "        }\n",
              "      </script>\n",
              "    </div>\n",
              "  </div>\n",
              "  "
            ]
          },
          "metadata": {},
          "execution_count": 26
        }
      ]
    },
    {
      "cell_type": "code",
      "source": [
        "from sklearn.feature_extraction import text\n",
        "Text=transcripts['transcript'].tolist()\n",
        "tfidf=text.TfidfVectorizer(input=Text,stop_words=\"english\")\n",
        "matrix=tfidf.fit_transform(Text)"
      ],
      "metadata": {
        "id": "p6-qi72LSdQa"
      },
      "execution_count": 27,
      "outputs": []
    },
    {
      "cell_type": "code",
      "source": [
        "###using cosine similarity\n",
        "from sklearn.metrics.pairwise import cosine_similarity\n",
        "sim_unigram=cosine_similarity(matrix)"
      ],
      "metadata": {
        "id": "i_1Db0JhWIw2"
      },
      "execution_count": 28,
      "outputs": []
    },
    {
      "cell_type": "code",
      "source": [
        "def get_similar_articles(x):\n",
        "    return \",\".join(transcripts['title'].loc[x.argsort()[-5:-1]])\n",
        "transcripts['similar_articles_unigram']=[get_similar_articles(x) for x in sim_unigram]"
      ],
      "metadata": {
        "id": "MnWtSld3W_LC"
      },
      "execution_count": 29,
      "outputs": []
    },
    {
      "cell_type": "code",
      "source": [
        "transcripts['title'].str.replace(\"_\",\" \").str.upper().str.strip()[1]"
      ],
      "metadata": {
        "colab": {
          "base_uri": "https://localhost:8080/",
          "height": 36
        },
        "id": "VD3w9L7PaK4C",
        "outputId": "a179e3e1-2a90-4a78-fc99-c4e195302081"
      },
      "execution_count": 30,
      "outputs": [
        {
          "output_type": "execute_result",
          "data": {
            "text/plain": [
              "'AL GORE ON AVERTING CLIMATE CRISIS'"
            ],
            "application/vnd.google.colaboratory.intrinsic+json": {
              "type": "string"
            }
          },
          "metadata": {},
          "execution_count": 30
        }
      ]
    },
    {
      "cell_type": "code",
      "source": [
        "transcripts['similar_articles_unigram'].str.replace(\"_\",\" \").str.upper().str.strip().str.split(\"\\n\")[1]"
      ],
      "metadata": {
        "colab": {
          "base_uri": "https://localhost:8080/"
        },
        "id": "oKIf5uNob3P1",
        "outputId": "9c34abab-8d0c-4ce4-e0bc-ef738f8364b9"
      },
      "execution_count": 36,
      "outputs": [
        {
          "output_type": "execute_result",
          "data": {
            "text/plain": [
              "['RORY BREMNER S ONE MAN WORLD SUMMIT',\n",
              " ',ALICE BOWS LARKIN WE RE TOO LATE TO PREVENT CLIMATE CHANGE HERE S HOW WE ADAPT',\n",
              " ',TED HALSTEAD A CLIMATE SOLUTION WHERE ALL SIDES CAN WIN',\n",
              " ',AL GORE S NEW THINKING ON THE CLIMATE CRISIS']"
            ]
          },
          "metadata": {},
          "execution_count": 36
        }
      ]
    },
    {
      "cell_type": "code",
      "source": [
        "transcripts['similar_articles_unigram'].str.replace(\"_\",\" \").str.upper().str.strip().str.split(\"\\n\")[10]"
      ],
      "metadata": {
        "colab": {
          "base_uri": "https://localhost:8080/"
        },
        "id": "LFvf9m-HcWmL",
        "outputId": "d353a366-2048-4f03-b133-91396ac6d384"
      },
      "execution_count": 42,
      "outputs": [
        {
          "output_type": "execute_result",
          "data": {
            "text/plain": [
              "['PAOLA ANTONELLI PREVIEWS DESIGN AND THE ELASTIC MIND',\n",
              " ',YVES BEHAR ON DESIGNING OBJECTS THAT TELL STORIES',\n",
              " ',TIM BROWN URGES DESIGNERS TO THINK BIG',\n",
              " ',ALASTAIR PARVIN ARCHITECTURE FOR THE PEOPLE BY THE PEOPLE']"
            ]
          },
          "metadata": {},
          "execution_count": 42
        }
      ]
    },
    {
      "cell_type": "code",
      "source": [
        "file_name = 'zzzzzzzzzzzz.xlsx'\n",
        "  \n",
        "# saving the excel\n",
        "transcripts.to_excel(file_name)\n",
        "print('DataFrame is written to Excel File successfully.')"
      ],
      "metadata": {
        "colab": {
          "base_uri": "https://localhost:8080/"
        },
        "id": "nBN2dqALc1RN",
        "outputId": "a76c4fad-26b6-41d4-e98f-9b2151fbad9e"
      },
      "execution_count": 44,
      "outputs": [
        {
          "output_type": "stream",
          "name": "stdout",
          "text": [
            "DataFrame is written to Excel File successfully.\n"
          ]
        }
      ]
    },
    {
      "cell_type": "code",
      "source": [
        "transcripts.head()"
      ],
      "metadata": {
        "colab": {
          "base_uri": "https://localhost:8080/",
          "height": 617
        },
        "id": "xKC7vFbqc8x4",
        "outputId": "f1468eb0-6994-44dc-bb0d-baa94285a0c1"
      },
      "execution_count": 45,
      "outputs": [
        {
          "output_type": "execute_result",
          "data": {
            "text/plain": [
              "                                          transcript  \\\n",
              "0  Good morning. How are you?(Laughter)It's been ...   \n",
              "1  Thank you so much, Chris. And it's truly a gre...   \n",
              "2  (Music: \"The Sound of Silence,\" Simon & Garfun...   \n",
              "3  If you're here today — and I'm very happy that...   \n",
              "4  About 10 years ago, I took on the task to teac...   \n",
              "\n",
              "                                                 url  \\\n",
              "0  https://www.ted.com/talks/ken_robinson_says_sc...   \n",
              "1  https://www.ted.com/talks/al_gore_on_averting_...   \n",
              "2  https://www.ted.com/talks/david_pogue_says_sim...   \n",
              "3  https://www.ted.com/talks/majora_carter_s_tale...   \n",
              "4  https://www.ted.com/talks/hans_rosling_shows_t...   \n",
              "\n",
              "                                               title  \\\n",
              "0        ken_robinson_says_schools_kill_creativity\\n   \n",
              "1               al_gore_on_averting_climate_crisis\\n   \n",
              "2                david_pogue_says_simplicity_sells\\n   \n",
              "3            majora_carter_s_tale_of_urban_renewal\\n   \n",
              "4  hans_rosling_shows_the_best_stats_you_ve_ever_...   \n",
              "\n",
              "                            similar_articles_unigram  \n",
              "0  rory_bremner_s_one_man_world_summit\\n,sakena_y...  \n",
              "1  rory_bremner_s_one_man_world_summit\\n,alice_bo...  \n",
              "2  rory_bremner_s_one_man_world_summit\\n,david_ca...  \n",
              "3  dena_simmons_how_students_of_color_confront_im...  \n",
              "4  hans_rosling_religions_and_babies\\n,hans_rosli...  "
            ],
            "text/html": [
              "\n",
              "  <div id=\"df-b4b73320-f8b7-4e0a-b471-f48e1eb99a8a\">\n",
              "    <div class=\"colab-df-container\">\n",
              "      <div>\n",
              "<style scoped>\n",
              "    .dataframe tbody tr th:only-of-type {\n",
              "        vertical-align: middle;\n",
              "    }\n",
              "\n",
              "    .dataframe tbody tr th {\n",
              "        vertical-align: top;\n",
              "    }\n",
              "\n",
              "    .dataframe thead th {\n",
              "        text-align: right;\n",
              "    }\n",
              "</style>\n",
              "<table border=\"1\" class=\"dataframe\">\n",
              "  <thead>\n",
              "    <tr style=\"text-align: right;\">\n",
              "      <th></th>\n",
              "      <th>transcript</th>\n",
              "      <th>url</th>\n",
              "      <th>title</th>\n",
              "      <th>similar_articles_unigram</th>\n",
              "    </tr>\n",
              "  </thead>\n",
              "  <tbody>\n",
              "    <tr>\n",
              "      <th>0</th>\n",
              "      <td>Good morning. How are you?(Laughter)It's been ...</td>\n",
              "      <td>https://www.ted.com/talks/ken_robinson_says_sc...</td>\n",
              "      <td>ken_robinson_says_schools_kill_creativity\\n</td>\n",
              "      <td>rory_bremner_s_one_man_world_summit\\n,sakena_y...</td>\n",
              "    </tr>\n",
              "    <tr>\n",
              "      <th>1</th>\n",
              "      <td>Thank you so much, Chris. And it's truly a gre...</td>\n",
              "      <td>https://www.ted.com/talks/al_gore_on_averting_...</td>\n",
              "      <td>al_gore_on_averting_climate_crisis\\n</td>\n",
              "      <td>rory_bremner_s_one_man_world_summit\\n,alice_bo...</td>\n",
              "    </tr>\n",
              "    <tr>\n",
              "      <th>2</th>\n",
              "      <td>(Music: \"The Sound of Silence,\" Simon &amp; Garfun...</td>\n",
              "      <td>https://www.ted.com/talks/david_pogue_says_sim...</td>\n",
              "      <td>david_pogue_says_simplicity_sells\\n</td>\n",
              "      <td>rory_bremner_s_one_man_world_summit\\n,david_ca...</td>\n",
              "    </tr>\n",
              "    <tr>\n",
              "      <th>3</th>\n",
              "      <td>If you're here today — and I'm very happy that...</td>\n",
              "      <td>https://www.ted.com/talks/majora_carter_s_tale...</td>\n",
              "      <td>majora_carter_s_tale_of_urban_renewal\\n</td>\n",
              "      <td>dena_simmons_how_students_of_color_confront_im...</td>\n",
              "    </tr>\n",
              "    <tr>\n",
              "      <th>4</th>\n",
              "      <td>About 10 years ago, I took on the task to teac...</td>\n",
              "      <td>https://www.ted.com/talks/hans_rosling_shows_t...</td>\n",
              "      <td>hans_rosling_shows_the_best_stats_you_ve_ever_...</td>\n",
              "      <td>hans_rosling_religions_and_babies\\n,hans_rosli...</td>\n",
              "    </tr>\n",
              "  </tbody>\n",
              "</table>\n",
              "</div>\n",
              "      <button class=\"colab-df-convert\" onclick=\"convertToInteractive('df-b4b73320-f8b7-4e0a-b471-f48e1eb99a8a')\"\n",
              "              title=\"Convert this dataframe to an interactive table.\"\n",
              "              style=\"display:none;\">\n",
              "        \n",
              "  <svg xmlns=\"http://www.w3.org/2000/svg\" height=\"24px\"viewBox=\"0 0 24 24\"\n",
              "       width=\"24px\">\n",
              "    <path d=\"M0 0h24v24H0V0z\" fill=\"none\"/>\n",
              "    <path d=\"M18.56 5.44l.94 2.06.94-2.06 2.06-.94-2.06-.94-.94-2.06-.94 2.06-2.06.94zm-11 1L8.5 8.5l.94-2.06 2.06-.94-2.06-.94L8.5 2.5l-.94 2.06-2.06.94zm10 10l.94 2.06.94-2.06 2.06-.94-2.06-.94-.94-2.06-.94 2.06-2.06.94z\"/><path d=\"M17.41 7.96l-1.37-1.37c-.4-.4-.92-.59-1.43-.59-.52 0-1.04.2-1.43.59L10.3 9.45l-7.72 7.72c-.78.78-.78 2.05 0 2.83L4 21.41c.39.39.9.59 1.41.59.51 0 1.02-.2 1.41-.59l7.78-7.78 2.81-2.81c.8-.78.8-2.07 0-2.86zM5.41 20L4 18.59l7.72-7.72 1.47 1.35L5.41 20z\"/>\n",
              "  </svg>\n",
              "      </button>\n",
              "      \n",
              "  <style>\n",
              "    .colab-df-container {\n",
              "      display:flex;\n",
              "      flex-wrap:wrap;\n",
              "      gap: 12px;\n",
              "    }\n",
              "\n",
              "    .colab-df-convert {\n",
              "      background-color: #E8F0FE;\n",
              "      border: none;\n",
              "      border-radius: 50%;\n",
              "      cursor: pointer;\n",
              "      display: none;\n",
              "      fill: #1967D2;\n",
              "      height: 32px;\n",
              "      padding: 0 0 0 0;\n",
              "      width: 32px;\n",
              "    }\n",
              "\n",
              "    .colab-df-convert:hover {\n",
              "      background-color: #E2EBFA;\n",
              "      box-shadow: 0px 1px 2px rgba(60, 64, 67, 0.3), 0px 1px 3px 1px rgba(60, 64, 67, 0.15);\n",
              "      fill: #174EA6;\n",
              "    }\n",
              "\n",
              "    [theme=dark] .colab-df-convert {\n",
              "      background-color: #3B4455;\n",
              "      fill: #D2E3FC;\n",
              "    }\n",
              "\n",
              "    [theme=dark] .colab-df-convert:hover {\n",
              "      background-color: #434B5C;\n",
              "      box-shadow: 0px 1px 3px 1px rgba(0, 0, 0, 0.15);\n",
              "      filter: drop-shadow(0px 1px 2px rgba(0, 0, 0, 0.3));\n",
              "      fill: #FFFFFF;\n",
              "    }\n",
              "  </style>\n",
              "\n",
              "      <script>\n",
              "        const buttonEl =\n",
              "          document.querySelector('#df-b4b73320-f8b7-4e0a-b471-f48e1eb99a8a button.colab-df-convert');\n",
              "        buttonEl.style.display =\n",
              "          google.colab.kernel.accessAllowed ? 'block' : 'none';\n",
              "\n",
              "        async function convertToInteractive(key) {\n",
              "          const element = document.querySelector('#df-b4b73320-f8b7-4e0a-b471-f48e1eb99a8a');\n",
              "          const dataTable =\n",
              "            await google.colab.kernel.invokeFunction('convertToInteractive',\n",
              "                                                     [key], {});\n",
              "          if (!dataTable) return;\n",
              "\n",
              "          const docLinkHtml = 'Like what you see? Visit the ' +\n",
              "            '<a target=\"_blank\" href=https://colab.research.google.com/notebooks/data_table.ipynb>data table notebook</a>'\n",
              "            + ' to learn more about interactive tables.';\n",
              "          element.innerHTML = '';\n",
              "          dataTable['output_type'] = 'display_data';\n",
              "          await google.colab.output.renderOutput(dataTable, element);\n",
              "          const docLink = document.createElement('div');\n",
              "          docLink.innerHTML = docLinkHtml;\n",
              "          element.appendChild(docLink);\n",
              "        }\n",
              "      </script>\n",
              "    </div>\n",
              "  </div>\n",
              "  "
            ]
          },
          "metadata": {},
          "execution_count": 45
        }
      ]
    }
  ]
}